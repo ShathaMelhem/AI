{
  "nbformat": 4,
  "nbformat_minor": 0,
  "metadata": {
    "colab": {
      "provenance": [],
      "toc_visible": true
    },
    "kernelspec": {
      "name": "python3",
      "display_name": "Python 3"
    },
    "language_info": {
      "name": "python"
    }
  },
  "cells": [
    {
      "cell_type": "markdown",
      "source": [
        "# Lists"
      ],
      "metadata": {
        "id": "5MZrRPJP45oL"
      }
    },
    {
      "cell_type": "code",
      "execution_count": null,
      "metadata": {
        "colab": {
          "base_uri": "https://localhost:8080/"
        },
        "id": "hIgKz8Hu4xpW",
        "outputId": "89cf189c-090a-4d27-94e4-b754a6c29523"
      },
      "outputs": [
        {
          "output_type": "stream",
          "name": "stdout",
          "text": [
            "[2, 4, 6, 8, 10]\n"
          ]
        }
      ],
      "source": [
        "#Q1\n",
        "numbers= list(range(1,11))\n",
        "new_list=[]\n",
        "for i in range(len(numbers)):\n",
        "    if i%2!=0:\n",
        "        new_list.append(numbers[i])\n",
        "\n",
        "print(new_list)"
      ]
    },
    {
      "cell_type": "code",
      "source": [
        "#Q2\n",
        "\n",
        "def common_elements(list1,list2):\n",
        "    common_list=[]\n",
        "    for i in list1:\n",
        "        if i in list2:\n",
        "            common_list.append(i)\n",
        "    return common_list\n",
        "\n",
        "list1=[1,2,3,4,5]\n",
        "list2=[3,4,5,6,7]\n",
        "print(common_elements(list1,list2))"
      ],
      "metadata": {
        "colab": {
          "base_uri": "https://localhost:8080/"
        },
        "id": "x8V1pLhW54YQ",
        "outputId": "f560df63-55d3-4a44-bec3-a392b7148a38"
      },
      "execution_count": null,
      "outputs": [
        {
          "output_type": "stream",
          "name": "stdout",
          "text": [
            "[3, 4, 5]\n"
          ]
        }
      ]
    },
    {
      "cell_type": "code",
      "source": [
        "#Q3\n",
        "def reversed_list(lst):\n",
        "    reversed_list=[]\n",
        "    for item in lst:\n",
        "        reversed_list.insert(0,item)\n",
        "    return reversed_list\n",
        "print(reversed_list([1,2,3,4,5]))"
      ],
      "metadata": {
        "colab": {
          "base_uri": "https://localhost:8080/"
        },
        "id": "kI-LcEEf6ygL",
        "outputId": "3cabba4f-2eee-4238-a1ca-199f9ae1b41b"
      },
      "execution_count": null,
      "outputs": [
        {
          "output_type": "stream",
          "name": "stdout",
          "text": [
            "[5, 4, 3, 2, 1]\n"
          ]
        }
      ]
    },
    {
      "cell_type": "code",
      "source": [
        "#Q4\n",
        "def sum_of_elemnts(lst):\n",
        "    sum=0\n",
        "    for item in lst:\n",
        "        sum+=item\n",
        "    return sum\n",
        "print(sum_of_elemnts([1,2,3,4,5]))\n"
      ],
      "metadata": {
        "colab": {
          "base_uri": "https://localhost:8080/"
        },
        "id": "CUUuzsSq7CGI",
        "outputId": "b7e39ed0-7e2d-429d-89e2-3286f2227b26"
      },
      "execution_count": null,
      "outputs": [
        {
          "output_type": "stream",
          "name": "stdout",
          "text": [
            "15\n"
          ]
        }
      ]
    },
    {
      "cell_type": "code",
      "source": [
        "#Q5\n",
        "def second_largest(lst):\n",
        "    lst.sort()\n",
        "    return lst[-2]\n",
        "print(second_largest([1,2,3,4,5]))"
      ],
      "metadata": {
        "colab": {
          "base_uri": "https://localhost:8080/"
        },
        "id": "lsh5Rd9f7j5g",
        "outputId": "aebf66f1-3f80-4ca4-9888-cad86f52b856"
      },
      "execution_count": null,
      "outputs": [
        {
          "output_type": "stream",
          "name": "stdout",
          "text": [
            "4\n"
          ]
        }
      ]
    },
    {
      "cell_type": "markdown",
      "source": [
        "# Tuple"
      ],
      "metadata": {
        "id": "GAnLoiQS8Pqb"
      }
    },
    {
      "cell_type": "code",
      "source": [
        "#Q1\n",
        "tuple1=(5,2,3,4,1)\n",
        "max=tuple1[0]\n",
        "min=tuple1[0]\n",
        "for item in tuple1:\n",
        "    if item>max:\n",
        "        max=item\n",
        "    if item<min:\n",
        "        min=item\n",
        "print(max)\n",
        "print(min)"
      ],
      "metadata": {
        "colab": {
          "base_uri": "https://localhost:8080/"
        },
        "id": "uTNrifcy8L_v",
        "outputId": "a42fb4e4-4477-40c7-f9c8-d34076f1ca35"
      },
      "execution_count": null,
      "outputs": [
        {
          "output_type": "stream",
          "name": "stdout",
          "text": [
            "5\n",
            "1\n"
          ]
        }
      ]
    },
    {
      "cell_type": "code",
      "source": [
        "#Q2\n",
        "\n",
        "def swap_first_last(tuple1):\n",
        "    # Convert the tuple to a list to allow modification\n",
        "    list1 = list(tuple1)\n",
        "    # Perform the swap using the list\n",
        "    list1[0], list1[-1] = list1[-1], list1[0]\n",
        "    # Convert the list back to a tuple\n",
        "    tuple1 = tuple(list1)\n",
        "\n",
        "    return tuple1\n",
        "print(swap_first_last((1,2,3,4,5)))"
      ],
      "metadata": {
        "colab": {
          "base_uri": "https://localhost:8080/"
        },
        "id": "fytz760D_ETf",
        "outputId": "3b6b6c4c-44d2-47b4-8212-a93b797b9310"
      },
      "execution_count": null,
      "outputs": [
        {
          "output_type": "stream",
          "name": "stdout",
          "text": [
            "(5, 2, 3, 4, 1)\n"
          ]
        }
      ]
    },
    {
      "cell_type": "code",
      "source": [
        "#Q3\n",
        "\n",
        "tuple1=(5,2,3,4,1)\n",
        "list1=list(tuple1)\n",
        "list1.sort()\n",
        "tuple1=tuple(list1)\n",
        "print(tuple1)"
      ],
      "metadata": {
        "colab": {
          "base_uri": "https://localhost:8080/"
        },
        "id": "7XGtzdSsHrmJ",
        "outputId": "2246748d-72bd-4e91-ee72-ecbcec7dc823"
      },
      "execution_count": null,
      "outputs": [
        {
          "output_type": "stream",
          "name": "stdout",
          "text": [
            "(1, 2, 3, 4, 5)\n"
          ]
        }
      ]
    },
    {
      "cell_type": "code",
      "source": [
        "#Q4\n",
        "\n",
        "tuple_count=(1,2,1,2,1,1,3,6,7)\n",
        "list_count=list(tuple_count)\n",
        "print(list_count.count(1))\n",
        "\n",
        "\n",
        "#if i should not convert it to list,then i used the counter\n",
        "count=0\n",
        "for item in tuple_count:\n",
        "    if item==1:\n",
        "        count+=1\n",
        "print(count)"
      ],
      "metadata": {
        "colab": {
          "base_uri": "https://localhost:8080/"
        },
        "id": "QiijjVAh1inI",
        "outputId": "01101795-ec9a-4a3d-9b03-752794f10f5c"
      },
      "execution_count": null,
      "outputs": [
        {
          "output_type": "stream",
          "name": "stdout",
          "text": [
            "4\n",
            "4\n"
          ]
        }
      ]
    },
    {
      "cell_type": "markdown",
      "source": [
        "# Dictionary"
      ],
      "metadata": {
        "id": "mFtMT1Nt3TaE"
      }
    },
    {
      "cell_type": "code",
      "source": [
        "#Q1\n",
        "\n",
        "students={\n",
        "    \"Samar\":99,\n",
        "    \"Mohammad\":100,\n",
        "    \"Ammar\":50,\n",
        "    \"Lama\":33,\n",
        "    \"Wael\":23\n",
        "}\n",
        "passed_students=[]\n",
        "for key,value in students.items():\n",
        "     if value>=50:\n",
        "        passed_students.append(key)\n",
        "print(passed_students)\n"
      ],
      "metadata": {
        "colab": {
          "base_uri": "https://localhost:8080/"
        },
        "id": "I7nmls3U2IRL",
        "outputId": "4deae12a-9baa-4e0f-e68c-a27bc7c70ae6"
      },
      "execution_count": null,
      "outputs": [
        {
          "output_type": "stream",
          "name": "stdout",
          "text": [
            "['Samar', 'Mohammad', 'Ammar']\n"
          ]
        }
      ]
    },
    {
      "cell_type": "code",
      "source": [
        "#Q2\n",
        "#merge two dictionaries into one\n",
        "dict1 = {'a': 100, 'b': 200}\n",
        "dict2 = {'x': 300, 'y': 200}\n",
        "#the first way to update dict 3 two times\n",
        "dict3.update(dict1)\n",
        "dict3.update(dict2)\n",
        "\n",
        "#the second way Using Dictionary Unpacking (**) and add them into dict3\n",
        "#dict3 = {**dict1,**dict2}\n",
        "print(dict3)"
      ],
      "metadata": {
        "colab": {
          "base_uri": "https://localhost:8080/"
        },
        "id": "vacje4ZY4fUk",
        "outputId": "3ea017c7-d128-4800-880c-da4bbbf38a4c"
      },
      "execution_count": null,
      "outputs": [
        {
          "output_type": "stream",
          "name": "stdout",
          "text": [
            "{'a': 100, 'b': 200, 'x': 300, 'y': 200}\n"
          ]
        }
      ]
    },
    {
      "cell_type": "code",
      "source": [
        "#Q3\n",
        "dict1 = {'a': 100, 'b': 123456, 'c': 30930,'d':1003}\n",
        "res=sorted(dict1,key=dict1.get,reverse=True)[0]\n",
        "print(res)"
      ],
      "metadata": {
        "colab": {
          "base_uri": "https://localhost:8080/"
        },
        "id": "GxUa3YPJ5DpB",
        "outputId": "8a79b92b-2bd9-4b4b-dd26-0643348a151e"
      },
      "execution_count": null,
      "outputs": [
        {
          "output_type": "stream",
          "name": "stdout",
          "text": [
            "b\n"
          ]
        }
      ]
    },
    {
      "cell_type": "code",
      "source": [
        "#Q4\n",
        "def convert_dict(conv_dict):\n",
        "      dict1={}\n",
        "      for key,value in conv_dict.items():\n",
        "          dict1[value]=key\n",
        "      return dict1\n",
        "\n",
        "print(convert_dict({'a': 100, 'b':300, 'y': 200}))"
      ],
      "metadata": {
        "colab": {
          "base_uri": "https://localhost:8080/"
        },
        "id": "fRzlm9yo7vYE",
        "outputId": "ad256b61-ed19-46f1-8779-e5ebbad0dc8d"
      },
      "execution_count": null,
      "outputs": [
        {
          "output_type": "stream",
          "name": "stdout",
          "text": [
            "{100: 'a', 300: 'b', 200: 'y'}\n"
          ]
        }
      ]
    },
    {
      "cell_type": "code",
      "source": [
        "#Q5\n",
        "def count_letters(s):\n",
        "    letter_count={}\n",
        "    for letter in s:\n",
        "        if letter.isalpha():\n",
        "            letter=letter.lower()\n",
        "            if letter in letter_count:\n",
        "                letter_count[letter]+=1\n",
        "            else:\n",
        "                letter_count[letter]=1\n",
        "    return letter_count\n",
        "\n",
        "print(count_letters(\"Hello World\"))"
      ],
      "metadata": {
        "colab": {
          "base_uri": "https://localhost:8080/"
        },
        "id": "A3sdMv2V912h",
        "outputId": "ae6c2663-2096-4009-c9da-39d28cfd9ada"
      },
      "execution_count": null,
      "outputs": [
        {
          "output_type": "stream",
          "name": "stdout",
          "text": [
            "{'h': 1, 'e': 1, 'l': 3, 'o': 2, 'w': 1, 'r': 1, 'd': 1}\n"
          ]
        }
      ]
    },
    {
      "cell_type": "markdown",
      "source": [
        "# Set"
      ],
      "metadata": {
        "id": "eCEdiuZM_41T"
      }
    },
    {
      "cell_type": "code",
      "source": [
        "from typing import Union\n",
        "#Q1\n",
        "set1={1,2,3,4,5}\n",
        "set2={4,5,6,7,8}\n",
        "intersection=set1.intersection(set2)\n",
        "union= set1.union(set2)\n",
        "\n",
        "print(intersection)\n",
        "print(union)"
      ],
      "metadata": {
        "id": "ykCwoSs1_otu",
        "colab": {
          "base_uri": "https://localhost:8080/"
        },
        "outputId": "69e5a724-08cc-49ce-e4ab-7afc55dd96df"
      },
      "execution_count": null,
      "outputs": [
        {
          "output_type": "stream",
          "name": "stdout",
          "text": [
            "{4, 5}\n",
            "{1, 2, 3, 4, 5, 6, 7, 8}\n"
          ]
        }
      ]
    },
    {
      "cell_type": "code",
      "source": [
        "#Q2\n",
        "\n",
        "lst=[1,2,3,3,3,4,5,3,2,1,6,7,8,9]\n",
        "set_=set(lst)\n",
        "print(list(set_))\n"
      ],
      "metadata": {
        "colab": {
          "base_uri": "https://localhost:8080/"
        },
        "id": "kTOvH5CrPgiZ",
        "outputId": "1f7da87a-51b8-4724-cd0d-cdbcd7ac7c3b"
      },
      "execution_count": null,
      "outputs": [
        {
          "output_type": "stream",
          "name": "stdout",
          "text": [
            "[1, 2, 3, 4, 5, 6, 7, 8, 9]\n"
          ]
        }
      ]
    },
    {
      "cell_type": "code",
      "source": [
        "#Q3\n",
        "def check_common_elements(set1,set2):\n",
        "    if set1.intersection(set2):\n",
        "        return True\n",
        "    else:\n",
        "        return False\n",
        "\n",
        "print(check_common_elements({1,2,3,4,5},{4,5,6,7,8}))"
      ],
      "metadata": {
        "colab": {
          "base_uri": "https://localhost:8080/"
        },
        "id": "dDQO2R6TQoRk",
        "outputId": "6b7f6ec8-cd25-4239-8633-552758481e93"
      },
      "execution_count": null,
      "outputs": [
        {
          "output_type": "stream",
          "name": "stdout",
          "text": [
            "True\n"
          ]
        }
      ]
    },
    {
      "cell_type": "code",
      "source": [
        "#Q4\n",
        "#symmetric differene\n",
        "\n",
        "set0={1,2,3,4,5}\n",
        "set00={1,4,5,6,7,8}\n",
        "print(set.symmetric_difference(set0,set00))"
      ],
      "metadata": {
        "colab": {
          "base_uri": "https://localhost:8080/"
        },
        "id": "nbhIUgeESAhm",
        "outputId": "3e98d9e2-7c43-4e3f-be06-51cd9e340492"
      },
      "execution_count": null,
      "outputs": [
        {
          "output_type": "stream",
          "name": "stdout",
          "text": [
            "{2, 3, 6, 7, 8}\n"
          ]
        }
      ]
    },
    {
      "cell_type": "markdown",
      "source": [
        "# If Condition"
      ],
      "metadata": {
        "id": "l81iOl4uSwuZ"
      }
    },
    {
      "cell_type": "code",
      "source": [
        "#Q1\n",
        "def check_num(num):\n",
        "  if num>0:\n",
        "    print(f\"{num} is positive\")\n",
        "  elif num<0:\n",
        "    print(f\"{num} is negative\")\n",
        "  else:\n",
        "    print(f\"{num} is zero\")\n",
        "\n",
        "check_num(-1)\n",
        "check_num(0)\n",
        "check_num(1)"
      ],
      "metadata": {
        "colab": {
          "base_uri": "https://localhost:8080/"
        },
        "id": "zbxQ43AsSnlS",
        "outputId": "6c5a821b-b16d-4454-f0fc-1a4cc89355d5"
      },
      "execution_count": null,
      "outputs": [
        {
          "output_type": "stream",
          "name": "stdout",
          "text": [
            "-1 is negative\n",
            "0 is zero\n",
            "1 is positive\n"
          ]
        }
      ]
    },
    {
      "cell_type": "code",
      "source": [
        "#Q2\n",
        "#leap year\n",
        "def check_leap_year(year):\n",
        "   # divided by 100 means century year (ending with 00)\n",
        "   # century year divided by 400 is leap year\n",
        "   if (year % 400 == 0) and (year % 100 == 0):\n",
        "        print(\"{0} is a leap year\".format(year))\n",
        "\n",
        "    # not divided by 100 means not a century year\n",
        "    # year divided by 4 is a leap year\n",
        "   elif (year % 4 ==0) and (year % 100 != 0):\n",
        "       print(\"{0} is a leap year\".format(year))\n",
        "\n",
        "# if not divided by both 400 (century year) and 4 (not century year)\n",
        "# year is not leap year\n",
        "   else:\n",
        "        print(\"{0} is not a leap year\".format(year))\n",
        "\n",
        "check_leap_year(2000)\n",
        "check_leap_year(1900)\n",
        "check_leap_year(2023)"
      ],
      "metadata": {
        "colab": {
          "base_uri": "https://localhost:8080/"
        },
        "id": "oTgPHaG1TM13",
        "outputId": "515e4379-7897-461b-9d2f-68ffb4d00836"
      },
      "execution_count": null,
      "outputs": [
        {
          "output_type": "stream",
          "name": "stdout",
          "text": [
            "2000 is a leap year\n",
            "1900 is not a leap year\n",
            "2023 is not a leap year\n"
          ]
        }
      ]
    },
    {
      "cell_type": "code",
      "source": [
        "#Q3\n",
        "#checks if a character is a vowel or consonant\n",
        "def check_vowel_consonant(char):\n",
        "    if char.isalpha():\n",
        "        if char.lower() in ['a','e','i','o','u']:\n",
        "            print(f\"{char} is a vowel\")\n",
        "        else:\n",
        "            print(f\"{char} is a consonant\")\n",
        "\n",
        "check_vowel_consonant('a')\n",
        "check_vowel_consonant('b')\n",
        "check_vowel_consonant('A')"
      ],
      "metadata": {
        "colab": {
          "base_uri": "https://localhost:8080/"
        },
        "id": "UrEkJApITjE9",
        "outputId": "931148a2-2641-439e-d213-30126b7a10f4"
      },
      "execution_count": null,
      "outputs": [
        {
          "output_type": "stream",
          "name": "stdout",
          "text": [
            "a is a vowel\n",
            "b is a consonant\n",
            "A is a vowel\n"
          ]
        }
      ]
    },
    {
      "cell_type": "markdown",
      "source": [
        "# While Loop"
      ],
      "metadata": {
        "id": "QiDtb3mjWMRZ"
      }
    },
    {
      "cell_type": "code",
      "source": [
        "#Q1\n",
        "def print_numbers():\n",
        "    i=1\n",
        "    while i<=100:\n",
        "      if i%17==0:\n",
        "        break\n",
        "      print(i)\n",
        "      i+=1\n",
        "print_numbers()"
      ],
      "metadata": {
        "colab": {
          "base_uri": "https://localhost:8080/"
        },
        "id": "Xb7S1QL_V8Ck",
        "outputId": "893e04de-fc34-48ec-f0ad-5566977f3daa"
      },
      "execution_count": null,
      "outputs": [
        {
          "output_type": "stream",
          "name": "stdout",
          "text": [
            "1\n",
            "2\n",
            "3\n",
            "4\n",
            "5\n",
            "6\n",
            "7\n",
            "8\n",
            "9\n",
            "10\n",
            "11\n",
            "12\n",
            "13\n",
            "14\n",
            "15\n",
            "16\n"
          ]
        }
      ]
    },
    {
      "cell_type": "code",
      "source": [
        "#Q2\n",
        "\n",
        "total=0\n",
        "while True:\n",
        "  num=int(input(\"Enter a number: \"))\n",
        "  if num==-1:\n",
        "    break\n",
        "  total+=num\n",
        "print(f\"The total is {total}\")"
      ],
      "metadata": {
        "colab": {
          "base_uri": "https://localhost:8080/"
        },
        "id": "vAQL41oEWpMh",
        "outputId": "c0891c1e-5ef2-417c-8aff-7cd3bc84ad16"
      },
      "execution_count": null,
      "outputs": [
        {
          "output_type": "stream",
          "name": "stdout",
          "text": [
            "Enter a number: 1\n",
            "Enter a number: 6\n",
            "Enter a number: 7\n",
            "Enter a number: -1\n",
            "The total is 14\n"
          ]
        }
      ]
    },
    {
      "cell_type": "code",
      "source": [
        "odd_num=1\n",
        "print(\"The odd numbers are:\")\n",
        "while odd_num <= 50:\n",
        "    if odd_num % 2 != 0:\n",
        "        print(odd_num, end=' ')\n",
        "    odd_num += 1"
      ],
      "metadata": {
        "colab": {
          "base_uri": "https://localhost:8080/"
        },
        "id": "ybC0AGEhYZ0D",
        "outputId": "d259fc3f-446b-41dc-f977-4a361db341dd"
      },
      "execution_count": null,
      "outputs": [
        {
          "output_type": "stream",
          "name": "stdout",
          "text": [
            "The odd numbers are:\n",
            "1 3 5 7 9 11 13 15 17 19 21 23 25 27 29 31 33 35 37 39 41 43 45 47 49 "
          ]
        }
      ]
    },
    {
      "cell_type": "markdown",
      "source": [
        "# For Loop"
      ],
      "metadata": {
        "id": "xNEYZWI2ZJ6I"
      }
    },
    {
      "cell_type": "code",
      "source": [
        "#Q1\n",
        "num=int(input(\"Enter a number: \"))\n",
        "\n",
        "def multiplication_table(num):\n",
        "    for i in range(1,11):\n",
        "        print(f\"{num} x {i} = {num*i}\")\n",
        "multiplication_table(num)"
      ],
      "metadata": {
        "id": "KAdXh1EMYt5T",
        "colab": {
          "base_uri": "https://localhost:8080/"
        },
        "outputId": "f640a798-aaa0-4011-9cfc-9b702943fb32"
      },
      "execution_count": 1,
      "outputs": [
        {
          "output_type": "stream",
          "name": "stdout",
          "text": [
            "Enter a number: 2\n",
            "2 x 1 = 2\n",
            "2 x 2 = 4\n",
            "2 x 3 = 6\n",
            "2 x 4 = 8\n",
            "2 x 5 = 10\n",
            "2 x 6 = 12\n",
            "2 x 7 = 14\n",
            "2 x 8 = 16\n",
            "2 x 9 = 18\n",
            "2 x 10 = 20\n"
          ]
        }
      ]
    },
    {
      "cell_type": "code",
      "source": [
        "#Q2\n",
        "count=0\n",
        "str=input(\"Enter a string: \")\n",
        "for char in str:\n",
        "    if char.lower() in ['a','e','i','o','u']:\n",
        "      count+=1\n",
        "\n",
        "print(f\"The number of vowels in the string is {count}\")"
      ],
      "metadata": {
        "colab": {
          "base_uri": "https://localhost:8080/"
        },
        "id": "3ZPTgKOwLG1a",
        "outputId": "6265ee43-64a2-49eb-fc35-e4fa831696b2"
      },
      "execution_count": 4,
      "outputs": [
        {
          "output_type": "stream",
          "name": "stdout",
          "text": [
            "Enter a string: Hello world\n",
            "The number of vowels in the string is 3\n"
          ]
        }
      ]
    },
    {
      "cell_type": "code",
      "source": [
        "#Q3\n",
        "lst=[1,2,3,4,5,6,2,3,4,9,11,22,13]\n",
        "for item in lst:\n",
        "  if item>5:\n",
        "    print(item ,end=\" \")"
      ],
      "metadata": {
        "colab": {
          "base_uri": "https://localhost:8080/"
        },
        "id": "6eOqUxBhL3sA",
        "outputId": "78e652f1-7d88-4f7c-dc88-4e579f0bf987"
      },
      "execution_count": 8,
      "outputs": [
        {
          "output_type": "stream",
          "name": "stdout",
          "text": [
            "6 9 11 22 13 "
          ]
        }
      ]
    },
    {
      "cell_type": "markdown",
      "source": [
        "# Function"
      ],
      "metadata": {
        "id": "0s8k2IWxM_2z"
      }
    },
    {
      "cell_type": "code",
      "source": [
        "#Q1\n",
        "def factorial(n):\n",
        "  res=1\n",
        "  for i in range(1,n+1):\n",
        "    res*=i\n",
        "  return res\n",
        "print(factorial(5))"
      ],
      "metadata": {
        "colab": {
          "base_uri": "https://localhost:8080/"
        },
        "id": "dzUSI4JIMVtL",
        "outputId": "126f2d3e-6f6a-4a9f-d6a9-c6c3a94955e2"
      },
      "execution_count": 9,
      "outputs": [
        {
          "output_type": "stream",
          "name": "stdout",
          "text": [
            "120\n"
          ]
        }
      ]
    },
    {
      "cell_type": "code",
      "source": [
        "#Q2\n",
        "def is_palindrome(str_):\n",
        "  if str_==str_[::-1]:\n",
        "    return True\n",
        "  else:\n",
        "    return False\n",
        "print(is_palindrome(\"madam\"))\n",
        "\n",
        ""
      ],
      "metadata": {
        "colab": {
          "base_uri": "https://localhost:8080/"
        },
        "id": "Mr1FJgHqNsJJ",
        "outputId": "2af07918-2f7c-4f7c-99c8-fa2bcefb99d8"
      },
      "execution_count": 10,
      "outputs": [
        {
          "output_type": "stream",
          "name": "stdout",
          "text": [
            "True\n"
          ]
        }
      ]
    },
    {
      "cell_type": "code",
      "source": [
        "#Q3\n",
        "\n",
        "def square_list(lst_):\n",
        "  return [i**2 for i in lst_ ]\n",
        "\n",
        "print(square_list([1,2,3,4,5]))"
      ],
      "metadata": {
        "colab": {
          "base_uri": "https://localhost:8080/"
        },
        "id": "MA7JbH70OjvE",
        "outputId": "74620222-edba-41ce-b81d-222e1264f637"
      },
      "execution_count": 11,
      "outputs": [
        {
          "output_type": "stream",
          "name": "stdout",
          "text": [
            "[1, 4, 9, 16, 25]\n"
          ]
        }
      ]
    },
    {
      "cell_type": "markdown",
      "source": [
        "# Recursion"
      ],
      "metadata": {
        "id": "qlssbFmMPKhy"
      }
    },
    {
      "cell_type": "code",
      "source": [
        "#Q1\n",
        "\n",
        "def fibonacci_num(n):\n",
        "  if n==0:\n",
        "    return 0\n",
        "  elif n==1:\n",
        "    return 1\n",
        "  else:\n",
        "    return fibonacci_num(n-1)+fibonacci_num(n-2)\n",
        "\n",
        "print(fibonacci_num(10))"
      ],
      "metadata": {
        "colab": {
          "base_uri": "https://localhost:8080/"
        },
        "id": "74DtfxSvPHHx",
        "outputId": "aef1c22e-1bf6-423d-c3a9-afb845c32325"
      },
      "execution_count": 14,
      "outputs": [
        {
          "output_type": "stream",
          "name": "stdout",
          "text": [
            "55\n"
          ]
        }
      ]
    },
    {
      "cell_type": "code",
      "source": [
        "#Q2\n",
        "\n",
        "def power(x,n):\n",
        "  if n==0:\n",
        "    return 1\n",
        "  return x* power(x,n-1)\n",
        "\n",
        "print(power(2,3))"
      ],
      "metadata": {
        "colab": {
          "base_uri": "https://localhost:8080/"
        },
        "id": "N5R4DzCKQ7B8",
        "outputId": "98d842c6-7f5a-4180-cf8a-03a21fcf49f2"
      },
      "execution_count": 15,
      "outputs": [
        {
          "output_type": "stream",
          "name": "stdout",
          "text": [
            "8\n"
          ]
        }
      ]
    },
    {
      "cell_type": "code",
      "source": [
        "#Q3\n",
        "\n",
        "def rec_sum(lst):\n",
        "  if not lst:\n",
        "    return 0\n",
        "  else:\n",
        "    return lst[0]+rec_sum(lst[1:])\n",
        "\n",
        "print(rec_sum([1,2,3,4,5]))"
      ],
      "metadata": {
        "colab": {
          "base_uri": "https://localhost:8080/"
        },
        "id": "aHoZH4v_SLYq",
        "outputId": "04d8aba5-f115-4b85-9cbb-a6937171c442"
      },
      "execution_count": 16,
      "outputs": [
        {
          "output_type": "stream",
          "name": "stdout",
          "text": [
            "15\n"
          ]
        }
      ]
    },
    {
      "cell_type": "markdown",
      "source": [
        "# Break and Continue"
      ],
      "metadata": {
        "id": "EBgxnHucSa2C"
      }
    },
    {
      "cell_type": "code",
      "source": [
        "#Q1\n",
        "\n",
        "for i in range(1,21):\n",
        "     if i % 3 == 0:\n",
        "       continue\n",
        "     print(i,end=\" \")\n",
        "\n"
      ],
      "metadata": {
        "colab": {
          "base_uri": "https://localhost:8080/"
        },
        "id": "LLnhVBsLSYkf",
        "outputId": "eac21bc1-f83b-4274-c42f-23522f22fd6f"
      },
      "execution_count": 11,
      "outputs": [
        {
          "output_type": "stream",
          "name": "stdout",
          "text": [
            "1 2 4 5 7 8 10 11 13 14 16 17 19 20 "
          ]
        }
      ]
    },
    {
      "cell_type": "code",
      "source": [
        "#Q2\n",
        "\n",
        "for i in range(1, 51):\n",
        "    if i % 13 == 0 and i % 7 == 0:\n",
        "        break\n",
        "    print(i,end=\" \")\n"
      ],
      "metadata": {
        "colab": {
          "base_uri": "https://localhost:8080/"
        },
        "id": "ZpoftveqkqyQ",
        "outputId": "6a707d01-e4ed-4b1f-b14a-5b8dcebb39ac"
      },
      "execution_count": 14,
      "outputs": [
        {
          "output_type": "stream",
          "name": "stdout",
          "text": [
            "1 2 3 4 5 6 7 8 9 10 11 12 13 14 15 16 17 18 19 20 21 22 23 24 25 26 27 28 29 30 31 32 33 34 35 36 37 38 39 40 41 42 43 44 45 46 47 48 49 50 "
          ]
        }
      ]
    },
    {
      "cell_type": "code",
      "source": [
        "#Q3\n",
        "\n",
        "lst = [1, 3, 5, 7, 8, 9, 10, 11, 12]\n",
        "for num in lst:\n",
        "    if num % 2 == 0:\n",
        "        break\n",
        "    print(num ,end=\" \")"
      ],
      "metadata": {
        "colab": {
          "base_uri": "https://localhost:8080/"
        },
        "id": "_dqEQf6wlLo_",
        "outputId": "8a904f84-b97f-47f2-8a9e-ad1efddc5706"
      },
      "execution_count": 21,
      "outputs": [
        {
          "output_type": "stream",
          "name": "stdout",
          "text": [
            "1 3 5 7 "
          ]
        }
      ]
    },
    {
      "cell_type": "markdown",
      "source": [
        "# Lambda"
      ],
      "metadata": {
        "id": "wkBwG8HOm15W"
      }
    },
    {
      "cell_type": "code",
      "source": [
        "#Q1\n",
        "tuples=[(1,4),(4,3),(1,6),(7,8),(7,1)]\n",
        "tuples.sort(key=lambda x:x[1])\n",
        "print(tuples)"
      ],
      "metadata": {
        "colab": {
          "base_uri": "https://localhost:8080/"
        },
        "id": "k4V-bOhEmaTt",
        "outputId": "f6b3f346-85ec-4299-8ea9-83ef06e97665"
      },
      "execution_count": 26,
      "outputs": [
        {
          "output_type": "stream",
          "name": "stdout",
          "text": [
            "[(7, 1), (4, 3), (1, 4), (1, 6), (7, 8)]\n"
          ]
        }
      ]
    },
    {
      "cell_type": "code",
      "source": [
        "#Q2\n",
        "squares=lambda x:x**2\n",
        "print(squares(5))"
      ],
      "metadata": {
        "colab": {
          "base_uri": "https://localhost:8080/"
        },
        "id": "XQyxXe2enHcH",
        "outputId": "09458b31-d0f8-47ea-c75c-6ab2260f85bf"
      },
      "execution_count": 28,
      "outputs": [
        {
          "output_type": "stream",
          "name": "stdout",
          "text": [
            "25\n"
          ]
        }
      ]
    },
    {
      "cell_type": "code",
      "source": [
        "#Q3\n",
        "lst=[1,2,3,4,5,6,7,8,9,10]\n",
        "odd_numbers=list(filter(lambda x:x%2!=0,lst))\n",
        "print(odd_numbers)"
      ],
      "metadata": {
        "colab": {
          "base_uri": "https://localhost:8080/"
        },
        "id": "93YN7VHEnlEm",
        "outputId": "4d49a265-8406-405b-c880-47d79ded4834"
      },
      "execution_count": 29,
      "outputs": [
        {
          "output_type": "stream",
          "name": "stdout",
          "text": [
            "[1, 3, 5, 7, 9]\n"
          ]
        }
      ]
    },
    {
      "cell_type": "markdown",
      "source": [
        "# Classes and Object-Oriented Programming"
      ],
      "metadata": {
        "id": "9cUTWHKrozI3"
      }
    },
    {
      "cell_type": "code",
      "source": [
        "#Q1\n",
        "\n",
        "class car :\n",
        "  def __init__(self,brand,model,year):\n",
        "    self.brand=brand\n",
        "    self.model=model\n",
        "    self.year=year\n",
        "\n",
        "  def display_info(self):\n",
        "    print(f\"This is a {self.year} {self.brand} {self.model}\")\n",
        "\n",
        "my_car=car(\"Toyota\",\"Camry\",2022)\n",
        "my_car.display_info()\n",
        ""
      ],
      "metadata": {
        "colab": {
          "base_uri": "https://localhost:8080/"
        },
        "id": "9Q10HKX6oxfk",
        "outputId": "32b2974c-1723-4fc2-94d9-c87564a6bb0b"
      },
      "execution_count": 30,
      "outputs": [
        {
          "output_type": "stream",
          "name": "stdout",
          "text": [
            "This is a 2022 Toyota Camry\n"
          ]
        }
      ]
    },
    {
      "cell_type": "code",
      "source": [
        "#Q2\n",
        "class num_of_objects:\n",
        "  count = 0\n",
        "  def __init__(self):\n",
        "    num_of_objects.count+=1\n",
        "\n",
        "  @classmethod\n",
        "  def count_objects(cls):\n",
        "    return cls.count\n",
        "\n",
        "obj1=num_of_objects()\n",
        "obj2=num_of_objects()\n",
        "obj3=num_of_objects()\n",
        "print(num_of_objects.count_objects())\n"
      ],
      "metadata": {
        "colab": {
          "base_uri": "https://localhost:8080/"
        },
        "id": "npeEJkMcpZSC",
        "outputId": "d68401b8-66ee-426f-b996-fb6249ee0d72"
      },
      "execution_count": 35,
      "outputs": [
        {
          "output_type": "stream",
          "name": "stdout",
          "text": [
            "3\n"
          ]
        }
      ]
    },
    {
      "cell_type": "code",
      "source": [
        "#Q3\n",
        "class parent:\n",
        "  def __init__(self,name,age):\n",
        "    self.name=name\n",
        "    self.age=age\n",
        "    print(f'Im the PARENT and my Name is {name} and my Age is {age}')\n",
        "\n",
        "class child(parent):\n",
        "  def view(self):\n",
        "    print(\"Hello Im the CHILD\")\n",
        "\n",
        "obj=child(\"Ali\",43)\n",
        "\n",
        "obj.view()"
      ],
      "metadata": {
        "colab": {
          "base_uri": "https://localhost:8080/"
        },
        "id": "ZVBQCyCxqDa1",
        "outputId": "8d6102c0-fdbc-4bd1-db7c-b655a8f21e93"
      },
      "execution_count": 41,
      "outputs": [
        {
          "output_type": "stream",
          "name": "stdout",
          "text": [
            "Im the PARENT and my Name is Ali and my Age is 43\n",
            "Hello Im the CHILD\n"
          ]
        }
      ]
    },
    {
      "cell_type": "code",
      "source": [
        "#Q4\n",
        "class Dog:\n",
        "  def make_sound(self):\n",
        "    print(\"Woof!\")\n",
        "\n",
        "class Cat(Dog):\n",
        "  def make_sound(self):\n",
        "    print(\"Meow!\")\n",
        "\n",
        "dog=Dog()\n",
        "cat=Cat()\n",
        "\n",
        "dog.make_sound()\n",
        "cat.make_sound()"
      ],
      "metadata": {
        "colab": {
          "base_uri": "https://localhost:8080/"
        },
        "id": "UzVt8rfjrfbg",
        "outputId": "1afc25c5-b731-4c1e-8d63-0b08a3ecf399"
      },
      "execution_count": 42,
      "outputs": [
        {
          "output_type": "stream",
          "name": "stdout",
          "text": [
            "Woof!\n",
            "Meow!\n"
          ]
        }
      ]
    },
    {
      "cell_type": "code",
      "source": [
        "#Q5\n",
        "from abc import ABC,abstractmethod\n",
        "\n",
        "class Shape(ABC):\n",
        "  @abstractmethod\n",
        "  def area(self):\n",
        "    pass\n",
        "\n",
        "class Rectangle(Shape):\n",
        "  def __init__(self,length,width):\n",
        "    self.length=length\n",
        "    self.width=width\n",
        "\n",
        "  def area(self):\n",
        "    rect_area=self.length*self.width\n",
        "    print(f'Area of Rectangle is: {rect_area}')\n",
        "\n",
        "class Circle(Shape):\n",
        "  def __init__(self,radius):\n",
        "    self.radius=radius\n",
        "\n",
        "  def area(self):\n",
        "    circle_area=3.14*self.radius**2\n",
        "    print(f'Area of Circle is: {circle_area}')\n",
        "\n",
        "rectangle=Rectangle(4,5)\n",
        "circle=Circle(3)\n",
        "\n",
        "rectangle.area()\n",
        "circle.area()"
      ],
      "metadata": {
        "colab": {
          "base_uri": "https://localhost:8080/"
        },
        "id": "czsNolW0saFB",
        "outputId": "d7c14e04-23a0-405f-a75d-5978c7563f6e"
      },
      "execution_count": 48,
      "outputs": [
        {
          "output_type": "stream",
          "name": "stdout",
          "text": [
            "Area of Rectangle is: 20\n",
            "Area of Circle is: 28.26\n"
          ]
        }
      ]
    },
    {
      "cell_type": "code",
      "source": [
        "#Q6\n",
        "\n",
        "class get_set:\n",
        "  def __init__(self):\n",
        "    self._value=None\n",
        "\n",
        "  def get_value(self):\n",
        "    return self._value\n",
        "\n",
        "  def set_value(self,value):\n",
        "    self._value=value\n",
        "\n",
        "obj=get_set()\n",
        "obj.set_value(10)\n",
        "print(obj.get_value())\n",
        "obj.set_value(20)\n",
        "print(obj.get_value())"
      ],
      "metadata": {
        "colab": {
          "base_uri": "https://localhost:8080/"
        },
        "id": "PtozTu_KtRil",
        "outputId": "083c82f2-0153-481c-c5d4-99010b14ab84"
      },
      "execution_count": 53,
      "outputs": [
        {
          "output_type": "stream",
          "name": "stdout",
          "text": [
            "10\n",
            "20\n"
          ]
        }
      ]
    },
    {
      "cell_type": "markdown",
      "source": [
        "# JSON"
      ],
      "metadata": {
        "id": "Q9Sg8CgvvOE3"
      }
    },
    {
      "cell_type": "code",
      "source": [
        "#Q1\n",
        "import json\n",
        "\n",
        "def dict_to_json(dict):\n",
        "  return json.dumps(dict)\n",
        "\n",
        "dict1 = {'a': 100, 'b': 200}\n",
        "print(dict_to_json(dict1))"
      ],
      "metadata": {
        "colab": {
          "base_uri": "https://localhost:8080/"
        },
        "id": "LrMtYcHHu6Ja",
        "outputId": "ff9c3ba6-6645-4a32-b1b9-0155071cad4c"
      },
      "execution_count": 55,
      "outputs": [
        {
          "output_type": "stream",
          "name": "stdout",
          "text": [
            "{\"a\": 100, \"b\": 200}\n"
          ]
        }
      ]
    },
    {
      "cell_type": "code",
      "source": [
        "#Q2\n",
        "import json\n",
        "\n",
        "''' I asked chatgpt to generate some json data to be used here'''\n",
        "\n",
        "\n",
        "def read_data_from_json(file_path):\n",
        "    with open(file_path, 'r') as file:\n",
        "        data = json.load(file)\n",
        "#Q2\n",
        "import json\n",
        "\n",
        "\n",
        "\n",
        "def read_data_from_json(file_path):\n",
        "    with open(file_path, 'r') as file:\n",
        "        data = json.load(file)\n",
        "    return data\n",
        "for data in read_data_from_json(\"/content/sample_data/anscombe.json\")[:11]: #Read only thw first ten rows in json file\n",
        "  print(data)\n",
        ""
      ],
      "metadata": {
        "colab": {
          "base_uri": "https://localhost:8080/"
        },
        "id": "qLD9A6vtv4lp",
        "outputId": "3a8ece74-6b97-44b3-db0a-ea219231ae6b"
      },
      "execution_count": 64,
      "outputs": [
        {
          "output_type": "stream",
          "name": "stdout",
          "text": [
            "{'Series': 'I', 'X': 10.0, 'Y': 8.04}\n",
            "{'Series': 'I', 'X': 8.0, 'Y': 6.95}\n",
            "{'Series': 'I', 'X': 13.0, 'Y': 7.58}\n",
            "{'Series': 'I', 'X': 9.0, 'Y': 8.81}\n",
            "{'Series': 'I', 'X': 11.0, 'Y': 8.33}\n",
            "{'Series': 'I', 'X': 14.0, 'Y': 9.96}\n",
            "{'Series': 'I', 'X': 6.0, 'Y': 7.24}\n",
            "{'Series': 'I', 'X': 4.0, 'Y': 4.26}\n",
            "{'Series': 'I', 'X': 12.0, 'Y': 10.84}\n",
            "{'Series': 'I', 'X': 7.0, 'Y': 4.81}\n",
            "{'Series': 'I', 'X': 5.0, 'Y': 5.68}\n"
          ]
        }
      ]
    },
    {
      "cell_type": "code",
      "source": [
        "#Q3\n",
        "data={'name':'John','age':30,'city':'New York'}\n",
        "\n",
        "with open('data.json','w') as file:\n",
        "  json.dump(data,file,indent=4)\n"
      ],
      "metadata": {
        "id": "nUMS3nCvwQGs"
      },
      "execution_count": 67,
      "outputs": []
    },
    {
      "cell_type": "markdown",
      "source": [
        "# NUMPy"
      ],
      "metadata": {
        "id": "1AdbNMEPzXcB"
      }
    },
    {
      "cell_type": "code",
      "source": [
        "#Q1\n",
        "import numpy as np\n",
        "array_of_zeros=np.zeros((3,3))\n",
        "print(array_of_zeros)"
      ],
      "metadata": {
        "colab": {
          "base_uri": "https://localhost:8080/"
        },
        "id": "q9f6CvJrzXCb",
        "outputId": "2d9ea6e3-f27a-4f64-b5ac-989b9e9ee897"
      },
      "execution_count": 73,
      "outputs": [
        {
          "output_type": "stream",
          "name": "stdout",
          "text": [
            "[[0. 0. 0.]\n",
            " [0. 0. 0.]\n",
            " [0. 0. 0.]]\n"
          ]
        }
      ]
    },
    {
      "cell_type": "code",
      "source": [
        "#Q2\n",
        "\n",
        "import numpy as np\n",
        "array=np.random.randint(1,101,10)\n",
        "print(array)"
      ],
      "metadata": {
        "colab": {
          "base_uri": "https://localhost:8080/"
        },
        "id": "zBdLU41qy-8v",
        "outputId": "05df5744-218c-48a9-8d8c-7c4629541cff"
      },
      "execution_count": 78,
      "outputs": [
        {
          "output_type": "stream",
          "name": "stdout",
          "text": [
            "[38  2 72 68 62 25 86 63 73 28]\n"
          ]
        }
      ]
    },
    {
      "cell_type": "code",
      "source": [
        "#Q3\n",
        "\n",
        "import numpy as np\n",
        "array=np.array([1,2,3,4,5,6,7,8,9,10])\n",
        "print(\"Mean =\",  np.mean(array))\n",
        "print(\"Median =\",  np.median(array))\n",
        "print(\"STD =\",  np.std(array))"
      ],
      "metadata": {
        "colab": {
          "base_uri": "https://localhost:8080/"
        },
        "id": "WGXCC_hf0GGb",
        "outputId": "e1c5988b-9131-4909-d41a-44359b7f593e"
      },
      "execution_count": 81,
      "outputs": [
        {
          "output_type": "stream",
          "name": "stdout",
          "text": [
            "Mean = 5.5\n",
            "Median = 5.5\n",
            "STD = 2.8722813232690143\n"
          ]
        }
      ]
    },
    {
      "cell_type": "code",
      "source": [
        "#Q4\n",
        "import numpy as np\n",
        "array=np.array([1,2,3,4,5,6,7,8,9,10,34,56])\n",
        "array=array.reshape(3,4)\n",
        "print(array)"
      ],
      "metadata": {
        "colab": {
          "base_uri": "https://localhost:8080/"
        },
        "id": "GfwFv1PJ04tE",
        "outputId": "9a4fb1e2-5b80-4bd6-a720-0ac03ccb497d"
      },
      "execution_count": 85,
      "outputs": [
        {
          "output_type": "stream",
          "name": "stdout",
          "text": [
            "[[ 1  2  3  4]\n",
            " [ 5  6  7  8]\n",
            " [ 9 10 34 56]]\n"
          ]
        }
      ]
    },
    {
      "cell_type": "code",
      "source": [
        "#Q5\n",
        "import numpy as np\n",
        "\n",
        "array1=np.array([1,2,3,4,5])\n",
        "array2=np.array([6,7,8,9,10])\n",
        "array3=array1+array2\n",
        "print(array3)"
      ],
      "metadata": {
        "colab": {
          "base_uri": "https://localhost:8080/"
        },
        "id": "3N91lib21TxJ",
        "outputId": "09a338bb-6101-4ca9-b2e0-7edcbec14ccf"
      },
      "execution_count": 89,
      "outputs": [
        {
          "output_type": "stream",
          "name": "stdout",
          "text": [
            "[ 7  9 11 13 15]\n"
          ]
        }
      ]
    },
    {
      "cell_type": "code",
      "source": [
        "#Q6\n",
        "import numpy as np\n",
        "\n",
        "A = np.array([[1, 2],\n",
        "              [3, 4]])\n",
        "\n",
        "B = np.array([[5, 6],\n",
        "              [7, 8]])\n",
        "\n",
        "result = np.dot(A, B)\n",
        "print(result)\n"
      ],
      "metadata": {
        "colab": {
          "base_uri": "https://localhost:8080/"
        },
        "id": "dBKNCiUg1m-i",
        "outputId": "913a2fdb-94ab-4d14-8fff-9b7efc2a6499"
      },
      "execution_count": 90,
      "outputs": [
        {
          "output_type": "stream",
          "name": "stdout",
          "text": [
            "[[19 22]\n",
            " [43 50]]\n"
          ]
        }
      ]
    },
    {
      "cell_type": "code",
      "source": [
        "#Q7\n",
        "import numpy as np\n",
        "arr = np.array([[1, 2],\n",
        "              [3, 4],[5,6]])\n",
        "\n",
        "\n",
        "# Find max and min values\n",
        "max_val = np.max(arr)\n",
        "min_val = np.min(arr)\n",
        "\n",
        "# Find indices of max and min values\n",
        "max_idx = np.argmax(arr)\n",
        "min_idx = np.argmin(arr)\n",
        "\n",
        "print(f\"Maximum value: {max_val} at index {max_idx}\")\n",
        "print(f\"Minimum value: {min_val} at index {min_idx}\")\n",
        "\n",
        ""
      ],
      "metadata": {
        "colab": {
          "base_uri": "https://localhost:8080/"
        },
        "id": "FfdPKWGn2ayn",
        "outputId": "59b5e413-7f59-465c-b79d-6037b3578562"
      },
      "execution_count": 94,
      "outputs": [
        {
          "output_type": "stream",
          "name": "stdout",
          "text": [
            "Maximum value: 6 at index 5\n",
            "Minimum value: 1 at index 0\n"
          ]
        }
      ]
    },
    {
      "cell_type": "code",
      "source": [
        "#Q8\n",
        "\n",
        "import numpy as np\n",
        "\n",
        "A = np.array([\n",
        "    [1, 2, 3, 4],\n",
        "    [5, 6, 7, 8],\n",
        "    [9, 10,11,12],\n",
        "    [13,14,15,16]\n",
        "])\n",
        "\n",
        "sliced_Arr = A[:3, :2]\n",
        "\n",
        "print(sliced_Arr)\n"
      ],
      "metadata": {
        "colab": {
          "base_uri": "https://localhost:8080/"
        },
        "id": "ysyQr3_b29Al",
        "outputId": "29f44e8c-2b1f-4f04-d008-dd7502c92b49"
      },
      "execution_count": 96,
      "outputs": [
        {
          "output_type": "stream",
          "name": "stdout",
          "text": [
            "[[ 1  2]\n",
            " [ 5  6]\n",
            " [ 9 10]]\n"
          ]
        }
      ]
    },
    {
      "cell_type": "code",
      "source": [],
      "metadata": {
        "id": "UU4SvkvZ4CcF"
      },
      "execution_count": null,
      "outputs": []
    }
  ]
}